{
 "cells": [
  {
   "cell_type": "code",
   "execution_count": 32,
   "id": "06d89b92-baa4-4689-80ae-0872bf511c65",
   "metadata": {
    "scrolled": true
   },
   "outputs": [
    {
     "name": "stdout",
     "output_type": "stream",
     "text": [
      "                              Model  Test MSE\n",
      "                  Polynomial Linear  0.035063\n",
      "           Polynomial Ridge (α=100)  0.036724\n",
      "             Polynomial Lasso (α=1)  0.038216\n",
      "Polynomial ElasticNet (α=1, l1=0.7)  0.042298\n"
     ]
    }
   ],
   "source": [
    "import numpy as np\n",
    "import pandas as pd\n",
    "import matplotlib.pyplot as plt\n",
    "\n",
    "from sklearn.preprocessing import StandardScaler, PolynomialFeatures\n",
    "from sklearn.linear_model import LinearRegression, Ridge, Lasso, ElasticNet\n",
    "from sklearn.metrics import mean_squared_error\n",
    "from sklearn.model_selection import train_test_split\n",
    "from sklearn.pipeline import make_pipeline\n",
    "from sklearn.feature_selection import SelectKBest, f_classif\n",
    "\n",
    "# 🔹 Step 1: Load dataset\n",
    "df = pd.read_csv(\"diabetes_prediction_dataset.csv\")\n",
    "\n",
    "# 🔹 Step 2: Encode categorical columns if any\n",
    "df_encoded = pd.get_dummies(df, drop_first=True)\n",
    "\n",
    "# Features & Target\n",
    "X = df_encoded.drop(\"diabetes\", axis=1).head(10)\n",
    "y = df_encoded[\"diabetes\"]\n",
    "\n",
    "\n",
    "\n",
    "\n",
    "# 🔹 Step 4: Train-Test Split\n",
    "X_train, X_test, y_train, y_test = train_test_split(\n",
    "    X_reduced, y, test_size=0.3, random_state=42\n",
    ")\n",
    "\n",
    "# 🔹 Step 5: Polynomial degree (keep small to avoid explosion)\n",
    "poly_degree = 3\n",
    "\n",
    "# 🔹 Step 6: Define models with stronger regularization\n",
    "models = {\n",
    "    \"Polynomial Linear\": LinearRegression(),\n",
    "    \"Polynomial Ridge (α=100)\": Ridge(alpha=100.0),\n",
    "    \"Polynomial Lasso (α=1)\": Lasso(alpha=0.001),\n",
    "    \"Polynomial ElasticNet (α=1, l1=0.7)\": ElasticNet(alpha=0.01, l1_ratio=.8)\n",
    "}\n",
    "\n",
    "# 🔹 Step 7: Train & Evaluate\n",
    "results = {}\n",
    "for name, model in models.items():\n",
    "    pipe = make_pipeline(\n",
    "        PolynomialFeatures(degree=poly_degree, include_bias=False),\n",
    "        StandardScaler(),\n",
    "        model\n",
    "    )\n",
    "    pipe.fit(X_train, y_train)\n",
    "\n",
    "    y_pred = pipe.predict(X_test)\n",
    "    mse = mean_squared_error(y_test, y_pred)\n",
    "    results[name] = mse\n",
    "\n",
    "# ✅ Show Test MSE Results\n",
    "results_table = pd.DataFrame(list(results.items()), columns=[\"Model\", \"Test MSE\"])\n",
    "print(results_table.to_string(index=False))\n"
   ]
  },
  {
   "cell_type": "code",
   "execution_count": null,
   "id": "21a6443b-19e2-4729-b071-2e766a1a7c44",
   "metadata": {},
   "outputs": [],
   "source": []
  }
 ],
 "metadata": {
  "kernelspec": {
   "display_name": "Python 3 (ipykernel)",
   "language": "python",
   "name": "python3"
  },
  "language_info": {
   "codemirror_mode": {
    "name": "ipython",
    "version": 3
   },
   "file_extension": ".py",
   "mimetype": "text/x-python",
   "name": "python",
   "nbconvert_exporter": "python",
   "pygments_lexer": "ipython3",
   "version": "3.13.5"
  }
 },
 "nbformat": 4,
 "nbformat_minor": 5
}
